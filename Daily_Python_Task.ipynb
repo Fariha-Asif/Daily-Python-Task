{
  "nbformat": 4,
  "nbformat_minor": 0,
  "metadata": {
    "colab": {
      "provenance": [],
      "authorship_tag": "ABX9TyNZTaj5JYPhooxD538nrYXd",
      "include_colab_link": true
    },
    "kernelspec": {
      "name": "python3",
      "display_name": "Python 3"
    },
    "language_info": {
      "name": "python"
    }
  },
  "cells": [
    {
      "cell_type": "markdown",
      "metadata": {
        "id": "view-in-github",
        "colab_type": "text"
      },
      "source": [
        "<a href=\"https://colab.research.google.com/github/Fariha-Asif/Daily-Python-Task/blob/main/Daily_Python_Task.ipynb\" target=\"_parent\"><img src=\"https://colab.research.google.com/assets/colab-badge.svg\" alt=\"Open In Colab\"/></a>"
      ]
    },
    {
      "cell_type": "markdown",
      "source": [
        "# Day 1 - Task"
      ],
      "metadata": {
        "id": "YEdcVrG9KNwf"
      }
    },
    {
      "cell_type": "markdown",
      "source": [
        "**Challenge: Write a Python program that prints the following message on the screen:**\n"
      ],
      "metadata": {
        "id": "IVtUL2qsKccC"
      }
    },
    {
      "cell_type": "code",
      "source": [
        "print(\"Hello, World! Welcome to Python Programming. Let's start coding!\")"
      ],
      "metadata": {
        "colab": {
          "base_uri": "https://localhost:8080/"
        },
        "id": "JIc6EEIwK-Wo",
        "outputId": "1f8997e0-11d7-4281-a372-b63020ba842f"
      },
      "execution_count": null,
      "outputs": [
        {
          "output_type": "stream",
          "name": "stdout",
          "text": [
            "Hello, World! Welcome to Python Programming. Let's start coding!\n"
          ]
        }
      ]
    },
    {
      "cell_type": "code",
      "source": [
        "name:str = input(\"Enter your name: \")\n",
        "new = name.upper()\n",
        "print(f\"Hello, {new}! Welcome to Python Programming. Let's start coding!\")"
      ],
      "metadata": {
        "colab": {
          "base_uri": "https://localhost:8080/"
        },
        "id": "yifarjc8PCh_",
        "outputId": "55995b13-ae85-456e-c9b1-61ce11171ae9"
      },
      "execution_count": null,
      "outputs": [
        {
          "output_type": "stream",
          "name": "stdout",
          "text": [
            "Enter your name: fariha\n",
            "Hello, FARIHA! Welcome to Python Programming. Let's start coding!\n"
          ]
        }
      ]
    },
    {
      "cell_type": "markdown",
      "source": [
        "# Day - 2"
      ],
      "metadata": {
        "id": "KgZn2NzPRakb"
      }
    },
    {
      "cell_type": "markdown",
      "source": [
        "**🚀 Challenge: Aisa Python program likhna hai jo user se ek sentence le aur usme jitne words hain, count kare! 🔢**"
      ],
      "metadata": {
        "id": "RWOL6CokRes3"
      }
    },
    {
      "cell_type": "code",
      "source": [
        "words:str = \"Python is amazing!\"\n",
        "count_words:int = len(words.split())\n",
        "print(f\"The total words in the sentence is: {count_words}\")"
      ],
      "metadata": {
        "colab": {
          "base_uri": "https://localhost:8080/"
        },
        "id": "8jchGUDMRmcQ",
        "outputId": "8f12d680-24dc-42d0-f9e2-dc7c8a553c66"
      },
      "execution_count": null,
      "outputs": [
        {
          "output_type": "stream",
          "name": "stdout",
          "text": [
            "The total words in the sentence is: 3\n"
          ]
        }
      ]
    },
    {
      "cell_type": "code",
      "source": [
        "words:str = input(\"Enter a sentence: \")\n",
        "reverse_words:str = words.split()\n",
        "reverse_words.reverse()\n",
        "print(f\" \".join(reverse_words))\n"
      ],
      "metadata": {
        "colab": {
          "base_uri": "https://localhost:8080/"
        },
        "id": "ne7GyB-1Xp3R",
        "outputId": "7df15fda-bf82-456d-c70d-cb9032e5720f"
      },
      "execution_count": null,
      "outputs": [
        {
          "output_type": "stream",
          "name": "stdout",
          "text": [
            "Enter a sentence: I love python\n",
            "python love I\n"
          ]
        }
      ]
    },
    {
      "cell_type": "markdown",
      "source": [
        "🎯 Mission:\n",
        "You are a robot assistant, and your job is to ask the user their name before starting a secret mission! 🤖💬\n",
        "\n",
        "💡 Instructions :\n",
        "Ask the user for their name using input().\n",
        "Display a cool welcome message like a high-tech AI would! 🚀\n",
        "\n",
        "Make the message fun and interactive using string formatting!\n",
        "\n",
        "🔎 Example Output :\n",
        "📌 User Input:\n",
        "Enter your name: Alex\n",
        "\n",
        "📌 Program Output:\n",
        "🔹 Processing... Name detected: Alex\n",
        "🔹 Access Granted! Welcome, Agent Alex. Your mission awaits! 🚀\n"
      ],
      "metadata": {
        "id": "Cw5pMQ0HebQa"
      }
    },
    {
      "cell_type": "code",
      "source": [
        "name:str = input(\"Your Good name please?\")\n",
        "output:str = f\"Processing... Name detected: {name.capitalize()}\"\n",
        "print(output)\n",
        "print(f\"Access Granted! Welcome, Agent {name.capitalize()}. Your mission awaits! 🚀\")"
      ],
      "metadata": {
        "colab": {
          "base_uri": "https://localhost:8080/"
        },
        "id": "o7la_fb4ealJ",
        "outputId": "fb6f5ca1-1bd6-4066-f53c-6f2b7aaa3450"
      },
      "execution_count": null,
      "outputs": [
        {
          "output_type": "stream",
          "name": "stdout",
          "text": [
            "Your Good name please?fari\n",
            "Processing... Name detected: Fari\n",
            "Access Granted! Welcome, Agent Fari. Your mission awaits! 🚀\n"
          ]
        }
      ]
    },
    {
      "cell_type": "markdown",
      "source": [
        "# Day - 3"
      ],
      "metadata": {
        "id": "_bN_lkYuhRPE"
      }
    },
    {
      "cell_type": "markdown",
      "source": [
        "🚀 Challenge: Aisa Python program likho jo user se ek number le aur check kare ke wo prime number hai ya nahi! 🔢💡\n",
        "\n",
        "🔥 Example:\n",
        "📌 Input: 7\n",
        "📌 Output: Yes, it's a prime number!\n",
        "📌 Input: 10\n",
        "📌 Output: No, it's not a prime number!\n"
      ],
      "metadata": {
        "id": "nzCshP9-hU8s"
      }
    },
    {
      "cell_type": "code",
      "source": [
        "user:str = int(input(\"Please write any number: \"))\n",
        "if(user % 2 == 0):\n",
        "  print(f\"No, {user} is not a prime number!\")\n",
        "else:\n",
        "  print(f\"Yes, {user} is a prime number!\")"
      ],
      "metadata": {
        "colab": {
          "base_uri": "https://localhost:8080/"
        },
        "id": "yjBRIexBiMix",
        "outputId": "988381e6-6f15-4a4f-df0a-4bd263af1aaf"
      },
      "execution_count": null,
      "outputs": [
        {
          "output_type": "stream",
          "name": "stdout",
          "text": [
            "Please write any number: 214\n",
            "No, 214 is not a prime number!\n"
          ]
        }
      ]
    },
    {
      "cell_type": "markdown",
      "source": [
        "📆 Task Date : 27/02/2025\n",
        "\n",
        "🚀 Mission:\n",
        "You are creating a Smart Arithmetic Calculator that can perform basic operations: Addition (+), Subtraction (-), Multiplication (*), and Division (/). 🧮\n",
        "\n",
        "💡 Instructions:\n",
        "⿡ Ask the user to choose an operation:\n",
        "\n",
        "1 for Addition (+)\n",
        "\n",
        "2 for Subtraction (-)\n",
        "\n",
        "3 for Multiplication (*)\n",
        "\n",
        "4 for Division (/)\n",
        "\n",
        "⿢ Take two numbers as input from the user.\n",
        "\n",
        "⿣ Perform the selected operation using the given numbers.\n",
        "\n",
        "⿤ Display the result in a friendly and formatted message.\n",
        "🔎 📌 Example Output:\n",
        "User Input:\n",
        "Choose operation:\n",
        "\n",
        "1. Addition (+)\n",
        "\n",
        "2. Subtraction (-)\n",
        "\n",
        "3. Multiplication (*)\n",
        "\n",
        "4. Division (/)\n",
        "\n",
        "Enter choice (1-4): 2\n",
        "Enter first number: 15\n",
        "Enter second number: 7\n",
        "\n",
        "📌 Program Output:\n",
        "🧮 Calculating...\n",
        "15 - 7 = 8\n",
        "\n",
        "📌 Bonus Challenge:\n",
        "✅ Round off the result to 2 decimal places.\n",
        "✅ Allow the user to perform multiple calculations until they choose to exit.\n",
        "✅ Show an error message if the user enters an invalid choice.\n",
        "\n"
      ],
      "metadata": {
        "id": "JAA4cO_k62sh"
      }
    },
    {
      "cell_type": "code",
      "source": [
        "def smart_calculator():\n",
        "  while True:\n",
        "    print(\"Choose operation:\")\n",
        "    print(\"1. Addition (+)\")\n",
        "    print(\"2. Subtraction (-)\")\n",
        "    print(\"3. Multiplication (*)\")\n",
        "    print(\"4. Division (/)\")\n",
        "    print(\"5. Exit\")\n",
        "    choice:int = int(input(\"Enter choice (1-5): \"))\n",
        "\n",
        "    if choice == 5:\n",
        "      print(\"Thankyou using the calculator. Goodbye!\")\n",
        "      break\n",
        "\n",
        "    if choice not in [1, 2, 3, 4]:\n",
        "      print(\"Invalid choice. Please enter a number between 1 and 4.\")\n",
        "      continue\n",
        "\n",
        "    try:\n",
        "      num1:float = float(input(\"Enter first number: \"))\n",
        "      num2:float = float(input(\"Enter second number: \"))\n",
        "    except ValueError:\n",
        "      print(\"Invalid input. Please enter valid numbers.\")\n",
        "      continue\n",
        "\n",
        "    if choice == 1:\n",
        "      result:float = num1 + num2\n",
        "    elif choice == 2:\n",
        "      result:float = num1 - num2\n",
        "    elif choice == 3:\n",
        "      result:float = num1 * num2\n",
        "    elif choice == 4:\n",
        "      if num2 == 0:\n",
        "        print(\"Error: Division by zero is not allowed.\")\n",
        "        continue\n",
        "    result:float = num1 / num2\n",
        "    operation:str = \"/\"\n",
        "\n",
        "    # Round the result to 2 decimal places\n",
        "    result:float = round(result, 2)\n",
        "\n",
        "    # Display the result in a friendly message\n",
        "    print(f\"\\n Calculating... {num1} {operation} {num2} = {result}\\n\")\n",
        "\n",
        "smart_calculator()"
      ],
      "metadata": {
        "colab": {
          "base_uri": "https://localhost:8080/"
        },
        "id": "GijhvMab617j",
        "outputId": "cae2f5f0-5eb7-4485-98c9-72b74e4d21ec"
      },
      "execution_count": 10,
      "outputs": [
        {
          "output_type": "stream",
          "name": "stdout",
          "text": [
            "Choose operation:\n",
            "1. Addition (+)\n",
            "2. Subtraction (-)\n",
            "3. Multiplication (*)\n",
            "4. Division (/)\n",
            "5. Exit\n",
            "Enter choice (1-5): 2\n",
            "Enter first number: 3\n",
            "Enter second number: 6\n",
            "\n",
            " Calculating... 3.0 / 6.0 = 0.5\n",
            "\n",
            "Choose operation:\n",
            "1. Addition (+)\n",
            "2. Subtraction (-)\n",
            "3. Multiplication (*)\n",
            "4. Division (/)\n",
            "5. Exit\n",
            "Enter choice (1-5): 5\n",
            "Thankyou using the calculator. Goodbye!\n"
          ]
        }
      ]
    },
    {
      "cell_type": "markdown",
      "source": [
        "## Day - 4"
      ],
      "metadata": {
        "id": "5dw2Yid4zdoO"
      }
    },
    {
      "cell_type": "markdown",
      "source": [
        "Challenge:Write a Python program that converts numbers into words! 🔢➡🔡\n",
        "\n",
        "🔥Example:\n",
        "📌 Input: 123\n",
        "📌 Output: \"One Hundred Twenty-Three\"\n",
        "\n",
        "📌 Input: 5067\n",
        "📌 Output: \"Five Thousand Sixty-Seven\"\n"
      ],
      "metadata": {
        "id": "KM817fUIzh7l"
      }
    },
    {
      "cell_type": "code",
      "source": [
        "import inflect\n",
        "p = inflect.engine()\n",
        "num:int = int(input(\"Enter a number: \"))\n",
        "print(p.number_to_words(num))"
      ],
      "metadata": {
        "colab": {
          "base_uri": "https://localhost:8080/"
        },
        "id": "kEFM4_gYzuI0",
        "outputId": "288d6c5f-3c61-4a05-af73-a88c6e3657c8"
      },
      "execution_count": 3,
      "outputs": [
        {
          "output_type": "stream",
          "name": "stdout",
          "text": [
            "Enter a number: 1000000\n",
            "one million\n"
          ]
        }
      ]
    }
  ]
}