{
  "nbformat": 4,
  "nbformat_minor": 0,
  "metadata": {
    "colab": {
      "provenance": [],
      "authorship_tag": "ABX9TyOOHQmHuxYC45Tf8v26uiy/",
      "include_colab_link": true
    },
    "kernelspec": {
      "name": "python3",
      "display_name": "Python 3"
    },
    "language_info": {
      "name": "python"
    }
  },
  "cells": [
    {
      "cell_type": "markdown",
      "metadata": {
        "id": "view-in-github",
        "colab_type": "text"
      },
      "source": [
        "<a href=\"https://colab.research.google.com/github/Fariha-Asif/Daily-Python-Task/blob/main/Daily_Python_Task.ipynb\" target=\"_parent\"><img src=\"https://colab.research.google.com/assets/colab-badge.svg\" alt=\"Open In Colab\"/></a>"
      ]
    },
    {
      "cell_type": "markdown",
      "source": [
        "# Day 1 - Task"
      ],
      "metadata": {
        "id": "YEdcVrG9KNwf"
      }
    },
    {
      "cell_type": "markdown",
      "source": [
        "**Challenge: Write a Python program that prints the following message on the screen:**\n"
      ],
      "metadata": {
        "id": "IVtUL2qsKccC"
      }
    },
    {
      "cell_type": "code",
      "source": [
        "print(\"Hello, World! Welcome to Python Programming. Let's start coding!\")"
      ],
      "metadata": {
        "colab": {
          "base_uri": "https://localhost:8080/"
        },
        "id": "JIc6EEIwK-Wo",
        "outputId": "1f8997e0-11d7-4281-a372-b63020ba842f"
      },
      "execution_count": null,
      "outputs": [
        {
          "output_type": "stream",
          "name": "stdout",
          "text": [
            "Hello, World! Welcome to Python Programming. Let's start coding!\n"
          ]
        }
      ]
    },
    {
      "cell_type": "code",
      "source": [
        "name:str = input(\"Enter your name: \")\n",
        "new = name.upper()\n",
        "print(f\"Hello, {new}! Welcome to Python Programming. Let's start coding!\")"
      ],
      "metadata": {
        "colab": {
          "base_uri": "https://localhost:8080/"
        },
        "id": "yifarjc8PCh_",
        "outputId": "55995b13-ae85-456e-c9b1-61ce11171ae9"
      },
      "execution_count": 4,
      "outputs": [
        {
          "output_type": "stream",
          "name": "stdout",
          "text": [
            "Enter your name: fariha\n",
            "Hello, FARIHA! Welcome to Python Programming. Let's start coding!\n"
          ]
        }
      ]
    },
    {
      "cell_type": "markdown",
      "source": [
        "# Day - 2"
      ],
      "metadata": {
        "id": "KgZn2NzPRakb"
      }
    },
    {
      "cell_type": "markdown",
      "source": [
        "**🚀 Challenge: Aisa Python program likhna hai jo user se ek sentence le aur usme jitne words hain, count kare! 🔢**"
      ],
      "metadata": {
        "id": "RWOL6CokRes3"
      }
    },
    {
      "cell_type": "code",
      "source": [
        "words:str = \"Python is amazing!\"\n",
        "count_words:int = len(words.split())\n",
        "print(f\"The total words in the sentence is: {count_words}\")"
      ],
      "metadata": {
        "colab": {
          "base_uri": "https://localhost:8080/"
        },
        "id": "8jchGUDMRmcQ",
        "outputId": "8f12d680-24dc-42d0-f9e2-dc7c8a553c66"
      },
      "execution_count": 10,
      "outputs": [
        {
          "output_type": "stream",
          "name": "stdout",
          "text": [
            "The total words in the sentence is: 3\n"
          ]
        }
      ]
    }
  ]
}